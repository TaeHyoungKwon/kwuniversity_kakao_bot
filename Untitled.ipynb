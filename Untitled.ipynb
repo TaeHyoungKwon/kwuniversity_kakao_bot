{
 "cells": [
  {
   "cell_type": "code",
   "execution_count": 4,
   "metadata": {
    "collapsed": false
   },
   "outputs": [
    {
     "name": "stdout",
     "output_type": "stream",
     "text": [
      "0\n"
     ]
    },
    {
     "data": {
      "text/plain": [
       "{'text': \"총 6건 중에 금일 '2016-12-30'일은 0 건 입니다.\"}"
      ]
     },
     "execution_count": 4,
     "metadata": {},
     "output_type": "execute_result"
    }
   ],
   "source": [
    "import sqlite3\n",
    "import datetime\n",
    "import json\n",
    "\n",
    "def msg_count():\n",
    "\n",
    "    con = sqlite3.connect(\"db.sqlite3\")\n",
    "    cursor = con.cursor()\n",
    "    cursor.execute(\"SELECT * FROM app_bot_searchword;\")\n",
    "    \n",
    "    total_cnt =0\n",
    "\n",
    "    d = datetime.datetime.today()\n",
    "    k = str(d.year) + \"-\" + str(d.month) + \"-\" + str(d.day)\n",
    "\n",
    "    cnt=0\n",
    "    print(cnt)\n",
    "    for data in cursor:\n",
    "        if data[2][:10] == k:\n",
    "            cnt+=1\n",
    "            total_cnt+=1\n",
    "        else:\n",
    "            total_cnt+=1\n",
    "\n",
    "    message = \"총 {}건 중에 금일 '{}'일은 {} 건 입니다.\".format(total_cnt,k,cnt)\n",
    "\n",
    "    result = {\"text\":message}        \n",
    "\n",
    "    return result"
   ]
  },
  {
   "cell_type": "code",
   "execution_count": 68,
   "metadata": {
    "collapsed": true
   },
   "outputs": [],
   "source": [
    "import sqlite3\n",
    "import datetime\n",
    "import json\n",
    "\n",
    "def kw_notice():\n",
    "\n",
    "    con = sqlite3.connect(\"db.sqlite3\")\n",
    "    cursor = con.cursor()\n",
    "    cursor.execute(\"SELECT * FROM app_bot_searchword;\")\n",
    "    \n",
    "    total_cnt =0\n",
    "\n",
    "    d = datetime.datetime.today()\n",
    "    k = str(d.year) + \"-\" + str(d.month) + \"-\" + str(d.day)\n",
    "\n",
    "    cnt=0\n",
    "\n",
    "    for data in cursor:\n",
    "        if data[2][:10] == k:\n",
    "            cnt+=1\n",
    "            total_cnt+=1\n",
    "        else:\n",
    "            total_cnt+=1\n",
    "\n",
    "    print(cnt)\n",
    "    print(total_cnt)\n",
    "    message = \"총 {}건 중에 금일 {}은 {} 건 입니다.\".format(total_cnt,k,cnt)\n",
    "    print(message)\n",
    "    result = {\"text\":message}        \n",
    "\n",
    "    return result"
   ]
  },
  {
   "cell_type": "code",
   "execution_count": null,
   "metadata": {
    "collapsed": true
   },
   "outputs": [],
   "source": []
  }
 ],
 "metadata": {
  "kernelspec": {
   "display_name": "Python 3",
   "language": "python",
   "name": "python3"
  },
  "language_info": {
   "codemirror_mode": {
    "name": "ipython",
    "version": 3
   },
   "file_extension": ".py",
   "mimetype": "text/x-python",
   "name": "python",
   "nbconvert_exporter": "python",
   "pygments_lexer": "ipython3",
   "version": "3.5.2"
  }
 },
 "nbformat": 4,
 "nbformat_minor": 0
}
